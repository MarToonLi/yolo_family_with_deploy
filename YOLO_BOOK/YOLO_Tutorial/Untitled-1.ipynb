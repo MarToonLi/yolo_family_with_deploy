{
 "cells": [
  {
   "cell_type": "code",
   "execution_count": 6,
   "metadata": {},
   "outputs": [],
   "source": [
    "import numpy as np\n",
    "import torch"
   ]
  },
  {
   "cell_type": "markdown",
   "metadata": {},
   "source": [
    "# Models - YOLOV1"
   ]
  },
  {
   "cell_type": "markdown",
   "metadata": {},
   "source": [
    "## Build.py"
   ]
  },
  {
   "cell_type": "markdown",
   "metadata": {},
   "source": [
    "`init_prob = 0.01`\n",
    "\n",
    "`bias_value = -torch.log(torch.tensor((1. - init_prob) / init_prob))`\n",
    "\n",
    "这里的 init_prob = 0.01 表示初始时，网络预测正类的概率设为0.01，即模型一开始假设几乎所有的输出都是负类（非目标类）。这种设置在目标检测中很常见，因为在大多数情况下，任意一个区域包含目标的概率通常很低。"
   ]
  },
  {
   "cell_type": "code",
   "execution_count": 2,
   "metadata": {},
   "outputs": [
    {
     "name": "stdout",
     "output_type": "stream",
     "text": [
      "ss\n"
     ]
    }
   ],
   "source": [
    "# 这里的 init_prob = 0.01 表示初始时，网络预测正类的概率设为0.01，即模型一开始假设几乎所有的输出都是负类（非目标类）。这种设置在目标检测中很常见，因为在大多数情况下，任意一个区域包含目标的概率通常很低。\n",
    "print(\"ss\")"
   ]
  },
  {
   "cell_type": "code",
   "execution_count": null,
   "metadata": {},
   "outputs": [],
   "source": [
    "torch.log(torch.tensor(99))"
   ]
  },
  {
   "cell_type": "code",
   "execution_count": 3,
   "metadata": {},
   "outputs": [
    {
     "data": {
      "text/plain": [
       "tensor(-4.5951)"
      ]
     },
     "execution_count": 3,
     "metadata": {},
     "output_type": "execute_result"
    }
   ],
   "source": [
    "init_prob = 0.01\n",
    "bias_value = -torch.log(torch.tensor((1. - init_prob) / init_prob)) \n",
    "bias_value"
   ]
  },
  {
   "cell_type": "code",
   "execution_count": 4,
   "metadata": {},
   "outputs": [
    {
     "data": {
      "text/plain": [
       "-4.595119953155518"
      ]
     },
     "execution_count": 4,
     "metadata": {},
     "output_type": "execute_result"
    }
   ],
   "source": [
    "bias_value.item()"
   ]
  },
  {
   "cell_type": "code",
   "execution_count": 7,
   "metadata": {},
   "outputs": [
    {
     "ename": "ValueError",
     "evalue": "only one element tensors can be converted to Python scalars",
     "output_type": "error",
     "traceback": [
      "\u001b[1;31m---------------------------------------------------------------------------\u001b[0m",
      "\u001b[1;31mValueError\u001b[0m                                Traceback (most recent call last)",
      "Cell \u001b[1;32mIn[7], line 2\u001b[0m\n\u001b[0;32m      1\u001b[0m \u001b[38;5;66;03m# tensor.item方法：only one element tensors can be converted to Python scalars\u001b[39;00m\n\u001b[1;32m----> 2\u001b[0m \u001b[43mtorch\u001b[49m\u001b[38;5;241;43m.\u001b[39;49m\u001b[43mtensor\u001b[49m\u001b[43m(\u001b[49m\u001b[43m[\u001b[49m\u001b[38;5;241;43m0\u001b[39;49m\u001b[43m,\u001b[49m\u001b[38;5;241;43m1\u001b[39;49m\u001b[43m]\u001b[49m\u001b[43m)\u001b[49m\u001b[38;5;241;43m.\u001b[39;49m\u001b[43mitem\u001b[49m\u001b[43m(\u001b[49m\u001b[43m)\u001b[49m\n",
      "\u001b[1;31mValueError\u001b[0m: only one element tensors can be converted to Python scalars"
     ]
    }
   ],
   "source": [
    "# tensor.item方法：only one element tensors can be converted to Python scalars\n",
    "# torch.tensor([0,1]).item()"
   ]
  },
  {
   "cell_type": "code",
   "execution_count": 11,
   "metadata": {},
   "outputs": [],
   "source": [
    "# 构造一个类scores的数组\n",
    "\n",
    "# 设置随机种子以便重现结果\n",
    "np.random.seed(0)\n",
    "\n",
    "# 定义参数\n",
    "num_boxes = 10  # 假设有 10 个预测框\n",
    "num_classes = 6  # 假设有 80 个类（如 COCO 数据集）\n",
    "\n",
    "# 生成一个随机的 scores 矩阵\n",
    "# 每个分数在 0 到 1 之间\n",
    "scores = np.random.rand(num_boxes, num_classes)"
   ]
  },
  {
   "cell_type": "code",
   "execution_count": 15,
   "metadata": {},
   "outputs": [
    {
     "name": "stdout",
     "output_type": "stream",
     "text": [
      "(10, 6)\n",
      "[[0.5488135  0.71518937 0.60276338 0.54488318 0.4236548  0.64589411]\n",
      " [0.43758721 0.891773   0.96366276 0.38344152 0.79172504 0.52889492]\n",
      " [0.56804456 0.92559664 0.07103606 0.0871293  0.0202184  0.83261985]\n",
      " [0.77815675 0.87001215 0.97861834 0.79915856 0.46147936 0.78052918]\n",
      " [0.11827443 0.63992102 0.14335329 0.94466892 0.52184832 0.41466194]\n",
      " [0.26455561 0.77423369 0.45615033 0.56843395 0.0187898  0.6176355 ]\n",
      " [0.61209572 0.616934   0.94374808 0.6818203  0.3595079  0.43703195]\n",
      " [0.6976312  0.06022547 0.66676672 0.67063787 0.21038256 0.1289263 ]\n",
      " [0.31542835 0.36371077 0.57019677 0.43860151 0.98837384 0.10204481]\n",
      " [0.20887676 0.16130952 0.65310833 0.2532916  0.46631077 0.24442559]]\n",
      "(10,)\n",
      "[1 2 1 2 3 1 2 0 4 2]\n"
     ]
    }
   ],
   "source": [
    "print((scores.shape))\n",
    "print(scores)\n",
    "labels = np.argmax(scores, axis=1)\n",
    "print(labels.shape)\n",
    "print(labels)"
   ]
  },
  {
   "cell_type": "code",
   "execution_count": 20,
   "metadata": {},
   "outputs": [
    {
     "name": "stdout",
     "output_type": "stream",
     "text": [
      "(10,)\n",
      "[0.71518937 0.96366276 0.92559664 0.97861834 0.94466892 0.77423369\n",
      " 0.94374808 0.6976312  0.98837384 0.65310833]\n",
      "(10, 10)\n",
      "[[0.71518937 0.60276338 0.71518937 0.60276338 0.54488318 0.71518937\n",
      "  0.60276338 0.5488135  0.4236548  0.60276338]\n",
      " [0.891773   0.96366276 0.891773   0.96366276 0.38344152 0.891773\n",
      "  0.96366276 0.43758721 0.79172504 0.96366276]\n",
      " [0.92559664 0.07103606 0.92559664 0.07103606 0.0871293  0.92559664\n",
      "  0.07103606 0.56804456 0.0202184  0.07103606]\n",
      " [0.87001215 0.97861834 0.87001215 0.97861834 0.79915856 0.87001215\n",
      "  0.97861834 0.77815675 0.46147936 0.97861834]\n",
      " [0.63992102 0.14335329 0.63992102 0.14335329 0.94466892 0.63992102\n",
      "  0.14335329 0.11827443 0.52184832 0.14335329]\n",
      " [0.77423369 0.45615033 0.77423369 0.45615033 0.56843395 0.77423369\n",
      "  0.45615033 0.26455561 0.0187898  0.45615033]\n",
      " [0.616934   0.94374808 0.616934   0.94374808 0.6818203  0.616934\n",
      "  0.94374808 0.61209572 0.3595079  0.94374808]\n",
      " [0.06022547 0.66676672 0.06022547 0.66676672 0.67063787 0.06022547\n",
      "  0.66676672 0.6976312  0.21038256 0.66676672]\n",
      " [0.36371077 0.57019677 0.36371077 0.57019677 0.43860151 0.36371077\n",
      "  0.57019677 0.31542835 0.98837384 0.57019677]\n",
      " [0.16130952 0.65310833 0.16130952 0.65310833 0.2532916  0.16130952\n",
      "  0.65310833 0.20887676 0.46631077 0.65310833]]\n"
     ]
    }
   ],
   "source": [
    "scores2 = scores[(np.arange(scores.shape[0]), labels)]\n",
    "scores3 = scores[:, labels]\n",
    "\n",
    "print(scores2.shape)\n",
    "print(scores2)\n",
    "\n",
    "print(scores3.shape)\n",
    "print(scores3)"
   ]
  },
  {
   "cell_type": "code",
   "execution_count": 22,
   "metadata": {},
   "outputs": [
    {
     "name": "stdout",
     "output_type": "stream",
     "text": [
      "Function B is called\n",
      "Function A is called\n"
     ]
    }
   ],
   "source": [
    "# Python 允许函数定义前对该函数的调用！\n",
    "def A():\n",
    "    B()  # 尝试调用 B 函数\n",
    "    print(\"Function A is called\")\n",
    "\n",
    "def B():\n",
    "    print(\"Function B is called\")\n",
    "\n",
    "A()"
   ]
  },
  {
   "cell_type": "code",
   "execution_count": 27,
   "metadata": {},
   "outputs": [
    {
     "name": "stdout",
     "output_type": "stream",
     "text": [
      "[8 3 1 4 6 2 5 0 7 9]\n",
      "[8 3 1 4 6 2 5 0 7 9]\n",
      "10\n"
     ]
    },
    {
     "data": {
      "text/plain": [
       "'\\nnumpy中array默认的数据格式是int64类型，而torch中tensor默认的数据格式是float32类型。\\nas_tensor和from_numpy是浅拷贝，而tensor和Tensor则是属于深拷贝，浅拷贝是直接共享内存内存空间的，这样效率更高，而深拷贝是直接创建一个新的副本。\\n原文链接：https://blog.csdn.net/qq_42346574/article/details/120100424\\n'"
      ]
     },
     "execution_count": 27,
     "metadata": {},
     "output_type": "execute_result"
    }
   ],
   "source": [
    "# NMS中根据置信度分数将预测框进行倒序排列\n",
    "\n",
    "scores2 = scores[(np.arange(scores.shape[0]), labels)]\n",
    "\n",
    "\n",
    "order1 = scores2.argsort()[::-1] \n",
    "torch_scores2 = torch.tensor(scores2)\n",
    "order2 = torch_scores2.argsort(descending=True).numpy()\n",
    "\n",
    "print(order1)\n",
    "print(order2)\n",
    "print(np.sum((order1 == order2)))\n",
    "\n",
    "\n",
    "\"\"\"\n",
    "numpy中array默认的数据格式是int64类型，而torch中tensor默认的数据格式是float32类型。\n",
    "as_tensor和from_numpy是浅拷贝，而tensor和Tensor则是属于深拷贝，浅拷贝是直接共享内存内存空间的，这样效率更高，而深拷贝是直接创建一个新的副本。\n",
    "原文链接：https://blog.csdn.net/qq_42346574/article/details/120100424\n",
    "\"\"\""
   ]
  },
  {
   "cell_type": "code",
   "execution_count": null,
   "metadata": {},
   "outputs": [],
   "source": []
  }
 ],
 "metadata": {
  "kernelspec": {
   "display_name": "Python 3",
   "language": "python",
   "name": "python3"
  },
  "language_info": {
   "codemirror_mode": {
    "name": "ipython",
    "version": 3
   },
   "file_extension": ".py",
   "mimetype": "text/x-python",
   "name": "python",
   "nbconvert_exporter": "python",
   "pygments_lexer": "ipython3",
   "version": "3.8.17"
  }
 },
 "nbformat": 4,
 "nbformat_minor": 2
}
